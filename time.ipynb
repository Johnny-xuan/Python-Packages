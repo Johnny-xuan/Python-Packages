{
 "cells": [
  {
   "cell_type": "code",
   "id": "initial_id",
   "metadata": {
    "collapsed": true,
    "ExecuteTime": {
     "end_time": "2025-09-04T10:11:59.017924Z",
     "start_time": "2025-09-04T10:11:59.012930Z"
    }
   },
   "source": "import time # Python 标准库中的 time 模块",
   "outputs": [],
   "execution_count": 9
  },
  {
   "metadata": {
    "ExecuteTime": {
     "end_time": "2025-09-04T10:12:01.069995Z",
     "start_time": "2025-09-04T10:11:59.061646Z"
    }
   },
   "cell_type": "code",
   "source": [
    "tik1=time.time()\n",
    "#返回当前时间的时间戳\n",
    "# （从 1970 年 1 月 1 日 00:00:00 UTC 到现在的秒数，浮点数）\n",
    "time.sleep(2)   #让程序暂停指定的秒数：time.sleep(secs)\n",
    "tik2=time.time()\n",
    "interval=tik2-tik1  #这里用来得到tik1与tik2之间的时间间隔\n",
    "print(f'interval:{interval}')"
   ],
   "id": "321ac56f19f1749a",
   "outputs": [
    {
     "name": "stdout",
     "output_type": "stream",
     "text": [
      "interval:2.000857353210449\n"
     ]
    }
   ],
   "execution_count": 10
  },
  {
   "metadata": {},
   "cell_type": "markdown",
   "source": "interval:2.0002033710479736",
   "id": "98055cd5b4e279a"
  },
  {
   "metadata": {
    "ExecuteTime": {
     "end_time": "2025-09-04T10:12:01.126434Z",
     "start_time": "2025-09-04T10:12:01.120429Z"
    }
   },
   "cell_type": "code",
   "source": "time.localtime(tik1) #将时间戳tik1转换为本地时间的结构化元组",
   "id": "6e57b38642c2e62f",
   "outputs": [
    {
     "data": {
      "text/plain": [
       "time.struct_time(tm_year=2025, tm_mon=9, tm_mday=4, tm_hour=18, tm_min=11, tm_sec=59, tm_wday=3, tm_yday=247, tm_isdst=0)"
      ]
     },
     "execution_count": 11,
     "metadata": {},
     "output_type": "execute_result"
    }
   ],
   "execution_count": 11
  },
  {
   "metadata": {},
   "cell_type": "markdown",
   "source": "上例返回的结果：time.struct_time(tm_year=2025, tm_mon=9, tm_mday=4, tm_hour=17, tm_min=44, tm_sec=46, tm_wday=3, tm_yday=247, tm_isdst=0)",
   "id": "4cdb596eda53c362"
  },
  {
   "metadata": {
    "ExecuteTime": {
     "end_time": "2025-09-04T10:12:01.220792Z",
     "start_time": "2025-09-04T10:12:01.214490Z"
    }
   },
   "cell_type": "code",
   "source": "time.localtime(tik1).tm_year  #2025",
   "id": "5907baa9c9ffab35",
   "outputs": [
    {
     "data": {
      "text/plain": [
       "2025"
      ]
     },
     "execution_count": 12,
     "metadata": {},
     "output_type": "execute_result"
    }
   ],
   "execution_count": 12
  },
  {
   "metadata": {
    "ExecuteTime": {
     "end_time": "2025-09-04T10:12:01.314292Z",
     "start_time": "2025-09-04T10:12:01.308059Z"
    }
   },
   "cell_type": "code",
   "source": [
    "format=time.strftime(\"%Y-%m-%d %H:%M:%S\")\n",
    "t=time.localtime(tik1)\n",
    "time.strftime(format,t)\n",
    "#   '2025-09-04 18:05:49'"
   ],
   "id": "e78a6828bc48e57a",
   "outputs": [
    {
     "data": {
      "text/plain": [
       "'2025-09-04 18:12:01'"
      ]
     },
     "execution_count": 13,
     "metadata": {},
     "output_type": "execute_result"
    }
   ],
   "execution_count": 13
  },
  {
   "metadata": {},
   "cell_type": "markdown",
   "source": [
    "```python\n",
    "将结构化时间（如 localtime() 返回的元组）格式化为字符串。常用格式符：\n",
    "%Y：四位数年份\n",
    "%m：月份\n",
    "%d：日期\n",
    "%H：小时\n",
    "%M：分钟\n",
    "%S：秒\n",
    "\n"
   ],
   "id": "f2831edb2589fc55"
  },
  {
   "metadata": {
    "ExecuteTime": {
     "end_time": "2025-09-04T10:12:01.400857Z",
     "start_time": "2025-09-04T10:12:01.397955Z"
    }
   },
   "cell_type": "code",
   "source": "",
   "id": "a74b01be91d26a13",
   "outputs": [],
   "execution_count": null
  }
 ],
 "metadata": {
  "kernelspec": {
   "display_name": "Python 3",
   "language": "python",
   "name": "python3"
  },
  "language_info": {
   "codemirror_mode": {
    "name": "ipython",
    "version": 2
   },
   "file_extension": ".py",
   "mimetype": "text/x-python",
   "name": "python",
   "nbconvert_exporter": "python",
   "pygments_lexer": "ipython2",
   "version": "2.7.6"
  }
 },
 "nbformat": 4,
 "nbformat_minor": 5
}
